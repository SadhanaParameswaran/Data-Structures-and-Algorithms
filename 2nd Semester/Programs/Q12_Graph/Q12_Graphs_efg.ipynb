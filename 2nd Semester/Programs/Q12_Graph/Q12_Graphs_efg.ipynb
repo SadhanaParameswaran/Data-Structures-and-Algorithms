{
 "cells": [
  {
   "cell_type": "code",
   "execution_count": 2,
   "id": "c855f976",
   "metadata": {},
   "outputs": [
    {
     "name": "stdout",
     "output_type": "stream",
     "text": [
      "[[0. 0. 0. ... 0. 0. 0.]\n",
      " [0. 0. 0. ... 0. 0. 0.]\n",
      " [0. 0. 0. ... 1. 1. 1.]\n",
      " ...\n",
      " [1. 1. 1. ... 1. 1. 1.]\n",
      " [1. 1. 1. ... 1. 1. 1.]\n",
      " [0. 0. 0. ... 1. 1. 1.]]\n"
     ]
    }
   ],
   "source": [
    "import numpy as np\n",
    "import imageio\n",
    "from PIL import Image,ImageChops\n",
    "\n",
    "image = imageio.imread('D:\\\\3rd Semester\\\\E (AIE203) = DSA-2\\\\Lab\\\\Puppy.jpg', as_gray=True)\n",
    "\n",
    "thresholdValue = np.mean(image)\n",
    "xDim, yDim = image.shape\n",
    "norm_Array=np.zeros((xDim,yDim))\n",
    "inv_Array=np.full((xDim,yDim),255)\n",
    "\n",
    "\n",
    "for i in range(xDim):\n",
    "    for j in range(yDim):\n",
    "        if (image[i][j] > thresholdValue):\n",
    "            image[i][j] = 1\n",
    "            norm_Array[i][j]=255\n",
    "            inv_Array[i][j]=0\n",
    "        else:\n",
    "            image[i][j] = 0\n",
    "print(image)\n",
    "\n",
    "pil_image=Image.fromarray(image)\n",
    "pil_Normalimage=Image.fromarray(norm_Array)\n",
    "pil_Invertedimage=Image.fromarray(inv_Array)\n",
    "\n",
    "pil_Normalimage.show()\n",
    "pil_Invertedimage.show()\n",
    "#pil_Invertedimage = imageio.imwrite('D:\\\\College\\\\AIE\\\\3rdsem\\\\DSA\\\\inverted.jpg', as_gray=True)\n",
    "img1 = Image.open('D:\\\\3rd Semester\\\\E (AIE203) = DSA-2\\\\Lab\\\\Puppy_Black.jpg')\n",
    "img2 = Image.open('D:\\\\3rd Semester\\\\E (AIE203) = DSA-2\\\\Lab\\\\Puppy_Inverted.jpg')\n",
    "\n",
    "diff = ImageChops.difference(img1,img2)\n",
    "diff.show()"
   ]
  },
  {
   "cell_type": "code",
   "execution_count": null,
   "id": "acecf36d",
   "metadata": {},
   "outputs": [],
   "source": []
  }
 ],
 "metadata": {
  "kernelspec": {
   "display_name": "Python 3",
   "language": "python",
   "name": "python3"
  },
  "language_info": {
   "codemirror_mode": {
    "name": "ipython",
    "version": 3
   },
   "file_extension": ".py",
   "mimetype": "text/x-python",
   "name": "python",
   "nbconvert_exporter": "python",
   "pygments_lexer": "ipython3",
   "version": "3.8.8"
  }
 },
 "nbformat": 4,
 "nbformat_minor": 5
}

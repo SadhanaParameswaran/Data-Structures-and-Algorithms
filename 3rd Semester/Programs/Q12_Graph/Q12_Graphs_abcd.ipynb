{
 "cells": [
  {
   "cell_type": "code",
   "execution_count": 9,
   "id": "26255328",
   "metadata": {},
   "outputs": [],
   "source": [
    "import numpy as np\n",
    "\n",
    "class Graph(object):\n",
    "    def __init__(self, graph=None):\n",
    "        if graph == None:\n",
    "            graph = {}\n",
    "        self.__graph = graph\n",
    "\n",
    "    def addNode(self, node):\n",
    "        if node not in self.__graph:\n",
    "            self.__graph[node] = []\n",
    "\n",
    "    def addEdge(self, edge):\n",
    "        edge = set(edge)\n",
    "        (node1, node2) = tuple(edge)\n",
    "        if node1 in self.__graph:\n",
    "            self.__graph[node1].append(node2)\n",
    "        else:\n",
    "            self.__graph[node1] = [node2]\n",
    "\n",
    "    def Nodes(self):\n",
    "        return list(self.__graph.keys())\n",
    "\n",
    "    def Edges(self):\n",
    "        edges = []\n",
    "        for node in self.__graph:\n",
    "            for neighbour in self.__graph[node]:\n",
    "                if (neighbour, node) not in edges:\n",
    "                    edges.append((node, neighbour))\n",
    "        return edges\n",
    "\n",
    "    def __str__(self):\n",
    "        res = \"Nodes: \"\n",
    "        for node in self.Nodes():\n",
    "            res += str(node) + \" \"\n",
    "        res += \" Edges: \"\n",
    "        for edge in self.Edges():\n",
    "            res += str(edge) + \" \"\n",
    "        return res\n",
    "\n",
    "    def neighboursOut(node, outgoing=[]):\n",
    "        for i in range(len(g.edges())):\n",
    "            if (g.edges()[i][0]) == node:\n",
    "                outgoing.append(g.edges()[i][1])\n",
    "        return outgoing\n",
    "\n",
    "    def neighboursIn(self, node, incoming=[]):\n",
    "        for i in range(len(g.edges())):\n",
    "            if (g.edges()[i][1]) == node:\n",
    "                incoming.append(g.edges()[i][0])\n",
    "        return incoming\n",
    "\n",
    "    def findPath(self, start_node, end_node, path=None):\n",
    "        if path == None:\n",
    "            path = []\n",
    "        graph = self.__graph\n",
    "        path = path + [start_node]\n",
    "        if start_node == end_node:\n",
    "            return path\n",
    "        if start_node not in graph:\n",
    "            return None\n",
    "        for node in graph[start_node]:\n",
    "            if node not in path:\n",
    "                extendedPath = self.findPath(node, end_node, path)\n",
    "                if extendedPath:\n",
    "                    return extendedPath\n",
    "        return None\n",
    "\n",
    "    def iscyclic(self,):\n",
    "        for i in self.__graph.keys():\n",
    "            for j in self.__graph.keys():\n",
    "                for k in self.__graph[j]:\n",
    "                    if k==i:\n",
    "                        return True\n",
    "        return False\n",
    "            \n",
    "                    \n",
    "\n",
    "    def adjmatrix(self):\n",
    "        print(\"Adjacency matrix:\")\n",
    "        letters = {'A': 0, 'B': 1, 'C': 2, 'D': 3, 'E': 4, 'F': 5, 'G': 6, 'H': 7, 'I': 8, 'J': 9, 'K': 10, 'L': 11,\n",
    "                   'M': 12, 'N': 13, 'O': 14, 'P': 15, 'Q': 16, 'R': 17, 'S': 18, 'T': 19, 'U': 20, 'V': 21, 'W': 22,\n",
    "                   'X': 23, 'Y': 24, 'Z': 25}\n",
    "        matrix = np.zeros((len(self.__graph), len(self.__graph))).astype(int)\n",
    "        for i in self.__graph:\n",
    "            for j in self.__graph[i]:\n",
    "                matrix[letters[i]][letters[j]] = 1\n",
    "        print(matrix)\n"
   ]
  },
  {
   "cell_type": "code",
   "execution_count": 10,
   "id": "d4120711",
   "metadata": {},
   "outputs": [],
   "source": [
    "graph1 = {'A': ['B','E'],\n",
    "         'B': ['A','C','D','E'],\n",
    "         'C': ['B','D'],\n",
    "         'D': ['B', 'C','E'],\n",
    "         'E': ['A','B','D']}\n",
    "graph2 = {'A': ['C'],\n",
    "         'B': ['A','C'],\n",
    "         'C': ['D','B'],\n",
    "         'D': [],\n",
    "         'E': []\n",
    "         }"
   ]
  },
  {
   "cell_type": "code",
   "execution_count": 11,
   "id": "a8a768a8",
   "metadata": {},
   "outputs": [
    {
     "name": "stdout",
     "output_type": "stream",
     "text": [
      "Adjacency matrix:\n",
      "[[0 1 0 0 1]\n",
      " [1 0 1 1 1]\n",
      " [0 1 0 1 0]\n",
      " [0 1 1 0 1]\n",
      " [1 1 0 1 0]]\n"
     ]
    }
   ],
   "source": [
    "# printing adjacency matrix\n",
    "g1 = Graph(graph1)\n",
    "g1.adjmatrix()"
   ]
  },
  {
   "cell_type": "code",
   "execution_count": 12,
   "id": "e9ef02d0",
   "metadata": {},
   "outputs": [
    {
     "name": "stdout",
     "output_type": "stream",
     "text": [
      "Adjacency list: \n",
      "A-->B,E,\n",
      "B-->A,C,D,E,\n",
      "C-->B,D,\n",
      "D-->B,C,E,\n",
      "E-->A,B,D,\n",
      "\n",
      "Nodes: ['A', 'B', 'C', 'D', 'E']\n",
      "Edges: [('A', 'B'), ('A', 'E'), ('B', 'C'), ('B', 'D'), ('B', 'E'), ('C', 'D'), ('D', 'E')]\n"
     ]
    }
   ],
   "source": [
    "# printing adjacency list\n",
    "print(\"Adjacency list: \")\n",
    "for i in graph1:\n",
    "    print(i,end=\"-->\")\n",
    "    for j in graph1[i]:\n",
    "        print(j,end=\",\")\n",
    "    print()\n",
    "print()\n",
    "print(\"Nodes: \",end=\"\")\n",
    "print(g1.Nodes())\n",
    "print(\"Edges: \",end=\"\")\n",
    "print(g1.Edges())"
   ]
  },
  {
   "cell_type": "code",
   "execution_count": 13,
   "id": "b06bc424",
   "metadata": {},
   "outputs": [
    {
     "name": "stdout",
     "output_type": "stream",
     "text": [
      "Path between A and E\n",
      "A->B->C->D->E\n",
      "graph is cyclic\n"
     ]
    }
   ],
   "source": [
    "# printing path\n",
    "print(\"Path between A and E\")\n",
    "path=g1.findPath(\"A\", \"E\")\n",
    "if path != None:\n",
    "    for x in range(len(path)-1):\n",
    "        print(path[x]+\"->\",end=\"\")\n",
    "    print(path[-1])\n",
    "else:\n",
    "    print(\"None\")\n",
    "    \n",
    "if g1.iscyclic():\n",
    "    print(\"graph is cyclic\")\n",
    "else:\n",
    "    print(\"graph is not cyclic\")"
   ]
  },
  {
   "cell_type": "code",
   "execution_count": 14,
   "id": "990119b7",
   "metadata": {},
   "outputs": [
    {
     "name": "stdout",
     "output_type": "stream",
     "text": [
      "Adjacency matrix:\n",
      "[[0 0 1 0 0]\n",
      " [1 0 1 0 0]\n",
      " [0 1 0 1 0]\n",
      " [0 0 0 0 0]\n",
      " [0 0 0 0 0]]\n"
     ]
    }
   ],
   "source": [
    "# printing adjacency matrix\n",
    "g2 = Graph(graph2)\n",
    "g2.adjmatrix()"
   ]
  },
  {
   "cell_type": "code",
   "execution_count": 15,
   "id": "84513268",
   "metadata": {},
   "outputs": [
    {
     "name": "stdout",
     "output_type": "stream",
     "text": [
      "  Adjacency list:\n",
      "A-->C,\n",
      "B-->A,C,\n",
      "C-->D,B,\n",
      "D-->\n",
      "E-->\n",
      "\n",
      "Nodes: ['A', 'B', 'C', 'D', 'E']\n",
      "Edges: [('A', 'C'), ('B', 'A'), ('B', 'C'), ('C', 'D')]\n"
     ]
    }
   ],
   "source": [
    "# printing adjacency list\n",
    "print(\"  Adjacency list:\")\n",
    "for i in graph2:\n",
    "    print(i,end=\"-->\")\n",
    "    for j in graph2[i]:\n",
    "        print(j,end=\",\")\n",
    "    print()\n",
    "print()\n",
    "print(\"Nodes: \",end=\"\")\n",
    "print(g2.Nodes())\n",
    "print(\"Edges: \",end=\"\")\n",
    "print(g2.Edges())"
   ]
  },
  {
   "cell_type": "code",
   "execution_count": 16,
   "id": "71711071",
   "metadata": {},
   "outputs": [
    {
     "name": "stdout",
     "output_type": "stream",
     "text": [
      "Path between C and E\n",
      "None\n"
     ]
    }
   ],
   "source": [
    "# printing path\n",
    "print(\"Path between C and E\")\n",
    "path=g2.findPath(\"C\", \"E\")\n",
    "if path != None:\n",
    "    for x in range(len(path)-1):\n",
    "        print(path[x]+\"->\",end=\"\")\n",
    "    print(path[-1])\n",
    "else:\n",
    "    print(\"None\")"
   ]
  }
 ],
 "metadata": {
  "kernelspec": {
   "display_name": "Python 3",
   "language": "python",
   "name": "python3"
  },
  "language_info": {
   "codemirror_mode": {
    "name": "ipython",
    "version": 3
   },
   "file_extension": ".py",
   "mimetype": "text/x-python",
   "name": "python",
   "nbconvert_exporter": "python",
   "pygments_lexer": "ipython3",
   "version": "3.8.8"
  }
 },
 "nbformat": 4,
 "nbformat_minor": 5
}

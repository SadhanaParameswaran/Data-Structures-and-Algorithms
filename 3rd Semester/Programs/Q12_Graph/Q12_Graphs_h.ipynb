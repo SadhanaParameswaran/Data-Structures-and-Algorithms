{
 "cells": [
  {
   "cell_type": "code",
   "execution_count": 4,
   "id": "7a719b97",
   "metadata": {},
   "outputs": [
    {
     "name": "stdout",
     "output_type": "stream",
     "text": [
      "Distance: \n",
      "2 -> 0 = 7\n",
      "2 -> 1 = 6\n",
      "2 -> 2 = 0\n",
      "2 -> 3 = 4\n",
      "2 -> 4 = 5\n",
      "2 -> 5 = 4\n"
     ]
    }
   ],
   "source": [
    "import sys\n",
    "class Graph():\n",
    "    def __init__(self, vertices):\n",
    "        self.V = vertices\n",
    "        self.graph = [[0 for column in range(vertices)]\n",
    "                      for row in range(vertices)] \n",
    "    def printSolution(self, dist,src):\n",
    "        print(\"Distance: \")\n",
    "        for node in range(self.V):\n",
    "            print(f\"{src} -> {node} = {dist[node]}\")\n",
    "    def minimumDistance(self, dist, sptSet):\n",
    "        min = sys.maxsize\n",
    "        for v in range(self.V):\n",
    "            if dist[v] < min and sptSet[v] == False:\n",
    "                min = dist[v]\n",
    "                min_index = v\n",
    "        return min_index\n",
    "    def dijkstra(self, src):\n",
    "        dist = [sys.maxsize] * self.V\n",
    "        dist[src] = 0\n",
    "        sptSet = [False] * self.V\n",
    "        for cout in range(self.V):\n",
    "            u = self.minimumDistance(dist, sptSet)\n",
    "            sptSet[u] = True\n",
    "            for v in range(self.V):\n",
    "                if self.graph[u][v] > 0 and sptSet[v] == False and dist[v] > dist[u] + self.graph[u][v]:\n",
    "                    dist[v] = dist[u] + self.graph[u][v]\n",
    "        self.printSolution(dist,src)\n",
    "g = Graph(6)\n",
    "g.graph = [[1, 4, 0, 5, 0, 4],\n",
    "           [3, 2, 6, 8, 0, 0],\n",
    "           [0, 6, 8, 4, 0, 4],\n",
    "           [6, 0, 7, 0, 9, 4],\n",
    "           [8, 0, 4, 3, 8, 5],\n",
    "           [3, 0, 5, 4, 1, 0]]\n",
    "g.dijkstra(2)"
   ]
  },
  {
   "cell_type": "code",
   "execution_count": null,
   "id": "5f1425be",
   "metadata": {},
   "outputs": [],
   "source": []
  }
 ],
 "metadata": {
  "kernelspec": {
   "display_name": "Python 3",
   "language": "python",
   "name": "python3"
  },
  "language_info": {
   "codemirror_mode": {
    "name": "ipython",
    "version": 3
   },
   "file_extension": ".py",
   "mimetype": "text/x-python",
   "name": "python",
   "nbconvert_exporter": "python",
   "pygments_lexer": "ipython3",
   "version": "3.8.8"
  }
 },
 "nbformat": 4,
 "nbformat_minor": 5
}
